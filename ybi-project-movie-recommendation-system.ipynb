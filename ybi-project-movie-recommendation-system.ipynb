{
 "cells": [
  {
   "cell_type": "markdown",
   "id": "387475f5",
   "metadata": {
    "id": "hRPcInxXCHCU",
    "papermill": {
     "duration": 0.00879,
     "end_time": "2023-07-16T11:37:57.820722",
     "exception": false,
     "start_time": "2023-07-16T11:37:57.811932",
     "status": "completed"
    },
    "tags": []
   },
   "source": [
    " **Movie Recommendation System**"
   ]
  },
  {
   "cell_type": "markdown",
   "id": "a8a2b254",
   "metadata": {
    "id": "_kdRiSzrCUX1",
    "papermill": {
     "duration": 0.007827,
     "end_time": "2023-07-16T11:37:57.837338",
     "exception": false,
     "start_time": "2023-07-16T11:37:57.829511",
     "status": "completed"
    },
    "tags": []
   },
   "source": [
    "**objective**"
   ]
  },
  {
   "cell_type": "markdown",
   "id": "8c4333cd",
   "metadata": {
    "id": "sDaXTalHDaT6",
    "papermill": {
     "duration": 0.008136,
     "end_time": "2023-07-16T11:37:57.854074",
     "exception": false,
     "start_time": "2023-07-16T11:37:57.845938",
     "status": "completed"
    },
    "tags": []
   },
   "source": [
    "Recommender System is a system that seeks to predict or filter preferences according to the user's choices.Recommender systems are utilized in a variety of areas including movies,music,books,research articles,search queries,social tags,and products in general.Recommender systems produce a list of recommendations in any of two ways -"
   ]
  },
  {
   "cell_type": "markdown",
   "id": "f9c87cc7",
   "metadata": {
    "id": "eCXVMZdZEYrw",
    "papermill": {
     "duration": 0.007946,
     "end_time": "2023-07-16T11:37:57.870332",
     "exception": false,
     "start_time": "2023-07-16T11:37:57.862386",
     "status": "completed"
    },
    "tags": []
   },
   "source": [
    "\n",
    "\n",
    "*   **Collaborative filtering:**Collaborative filtering approaches build a model from the user's past behavior as well as similar decisions made by other users.This model then used to predict items that users may have an interst in.\n",
    "*   **Content-based filtering:**Content-based filtering approaches uses a series of discrete characteristics of an item in order to recommend additional items with similar properties.This methods are totally based on a description of t6he item and a profile of user's preferences.It recommends items based on user's past preferences."
   ]
  },
  {
   "cell_type": "markdown",
   "id": "05136710",
   "metadata": {
    "id": "-Sfz3ZrMFgIn",
    "papermill": {
     "duration": 0.007864,
     "end_time": "2023-07-16T11:37:57.887960",
     "exception": false,
     "start_time": "2023-07-16T11:37:57.880096",
     "status": "completed"
    },
    "tags": []
   },
   "source": [
    "**Data Source**"
   ]
  },
  {
   "cell_type": "markdown",
   "id": "b9e49971",
   "metadata": {
    "id": "djq6baJ9HC7U",
    "papermill": {
     "duration": 0.007939,
     "end_time": "2023-07-16T11:37:57.904242",
     "exception": false,
     "start_time": "2023-07-16T11:37:57.896303",
     "status": "completed"
    },
    "tags": []
   },
   "source": [
    "Github - https://raw.githubusercontent.com/YBIFoundation/Dataset/main/Movies%20Recommendation.csv"
   ]
  },
  {
   "cell_type": "markdown",
   "id": "88d0a128",
   "metadata": {
    "id": "FPY3cT7fH4el",
    "papermill": {
     "duration": 0.007921,
     "end_time": "2023-07-16T11:37:57.920581",
     "exception": false,
     "start_time": "2023-07-16T11:37:57.912660",
     "status": "completed"
    },
    "tags": []
   },
   "source": [
    "**Import Library**"
   ]
  },
  {
   "cell_type": "code",
   "execution_count": 1,
   "id": "2ac36098",
   "metadata": {
    "execution": {
     "iopub.execute_input": "2023-07-16T11:37:57.939261Z",
     "iopub.status.busy": "2023-07-16T11:37:57.938576Z",
     "iopub.status.idle": "2023-07-16T11:37:57.948143Z",
     "shell.execute_reply": "2023-07-16T11:37:57.947158Z"
    },
    "id": "OZBZ7-ZCKelK",
    "papermill": {
     "duration": 0.02138,
     "end_time": "2023-07-16T11:37:57.950379",
     "exception": false,
     "start_time": "2023-07-16T11:37:57.928999",
     "status": "completed"
    },
    "tags": []
   },
   "outputs": [],
   "source": [
    "import pandas as pd"
   ]
  },
  {
   "cell_type": "code",
   "execution_count": 2,
   "id": "31fcd9b2",
   "metadata": {
    "execution": {
     "iopub.execute_input": "2023-07-16T11:37:57.970286Z",
     "iopub.status.busy": "2023-07-16T11:37:57.969584Z",
     "iopub.status.idle": "2023-07-16T11:37:57.973534Z",
     "shell.execute_reply": "2023-07-16T11:37:57.972741Z"
    },
    "id": "v2bQMouGKzpY",
    "papermill": {
     "duration": 0.016678,
     "end_time": "2023-07-16T11:37:57.975862",
     "exception": false,
     "start_time": "2023-07-16T11:37:57.959184",
     "status": "completed"
    },
    "tags": []
   },
   "outputs": [],
   "source": [
    "import numpy as np"
   ]
  },
  {
   "cell_type": "markdown",
   "id": "79594291",
   "metadata": {
    "id": "aQN3fAxrK-d7",
    "papermill": {
     "duration": 0.00829,
     "end_time": "2023-07-16T11:37:57.992991",
     "exception": false,
     "start_time": "2023-07-16T11:37:57.984701",
     "status": "completed"
    },
    "tags": []
   },
   "source": [
    "**Import Data**"
   ]
  },
  {
   "cell_type": "code",
   "execution_count": 3,
   "id": "644d06ab",
   "metadata": {
    "execution": {
     "iopub.execute_input": "2023-07-16T11:37:58.012935Z",
     "iopub.status.busy": "2023-07-16T11:37:58.012222Z",
     "iopub.status.idle": "2023-07-16T11:37:58.880069Z",
     "shell.execute_reply": "2023-07-16T11:37:58.878992Z"
    },
    "id": "fE7cMvvPLNTu",
    "papermill": {
     "duration": 0.881389,
     "end_time": "2023-07-16T11:37:58.882855",
     "exception": false,
     "start_time": "2023-07-16T11:37:58.001466",
     "status": "completed"
    },
    "tags": []
   },
   "outputs": [],
   "source": [
    "df=pd.read_csv('https://raw.githubusercontent.com/YBIFoundation/Dataset/main/Movies%20Recommendation.csv')"
   ]
  },
  {
   "cell_type": "code",
   "execution_count": 4,
   "id": "6ae46dea",
   "metadata": {
    "execution": {
     "iopub.execute_input": "2023-07-16T11:37:58.902412Z",
     "iopub.status.busy": "2023-07-16T11:37:58.901537Z",
     "iopub.status.idle": "2023-07-16T11:37:58.942113Z",
     "shell.execute_reply": "2023-07-16T11:37:58.941068Z"
    },
    "id": "3haX1uk3LTMG",
    "outputId": "b7c7c4d3-316f-4a0f-ceaf-78f9188fb087",
    "papermill": {
     "duration": 0.052644,
     "end_time": "2023-07-16T11:37:58.944448",
     "exception": false,
     "start_time": "2023-07-16T11:37:58.891804",
     "status": "completed"
    },
    "tags": []
   },
   "outputs": [
    {
     "data": {
      "text/html": [
       "<div>\n",
       "<style scoped>\n",
       "    .dataframe tbody tr th:only-of-type {\n",
       "        vertical-align: middle;\n",
       "    }\n",
       "\n",
       "    .dataframe tbody tr th {\n",
       "        vertical-align: top;\n",
       "    }\n",
       "\n",
       "    .dataframe thead th {\n",
       "        text-align: right;\n",
       "    }\n",
       "</style>\n",
       "<table border=\"1\" class=\"dataframe\">\n",
       "  <thead>\n",
       "    <tr style=\"text-align: right;\">\n",
       "      <th></th>\n",
       "      <th>Movie_ID</th>\n",
       "      <th>Movie_Title</th>\n",
       "      <th>Movie_Genre</th>\n",
       "      <th>Movie_Language</th>\n",
       "      <th>Movie_Budget</th>\n",
       "      <th>Movie_Popularity</th>\n",
       "      <th>Movie_Release_Date</th>\n",
       "      <th>Movie_Revenue</th>\n",
       "      <th>Movie_Runtime</th>\n",
       "      <th>Movie_Vote</th>\n",
       "      <th>...</th>\n",
       "      <th>Movie_Homepage</th>\n",
       "      <th>Movie_Keywords</th>\n",
       "      <th>Movie_Overview</th>\n",
       "      <th>Movie_Production_House</th>\n",
       "      <th>Movie_Production_Country</th>\n",
       "      <th>Movie_Spoken_Language</th>\n",
       "      <th>Movie_Tagline</th>\n",
       "      <th>Movie_Cast</th>\n",
       "      <th>Movie_Crew</th>\n",
       "      <th>Movie_Director</th>\n",
       "    </tr>\n",
       "  </thead>\n",
       "  <tbody>\n",
       "    <tr>\n",
       "      <th>0</th>\n",
       "      <td>1</td>\n",
       "      <td>Four Rooms</td>\n",
       "      <td>Crime Comedy</td>\n",
       "      <td>en</td>\n",
       "      <td>4000000</td>\n",
       "      <td>22.876230</td>\n",
       "      <td>09-12-1995</td>\n",
       "      <td>4300000</td>\n",
       "      <td>98.0</td>\n",
       "      <td>6.5</td>\n",
       "      <td>...</td>\n",
       "      <td>NaN</td>\n",
       "      <td>hotel new year's eve witch bet hotel room</td>\n",
       "      <td>It's Ted the Bellhop's first night on the job....</td>\n",
       "      <td>[{\"name\": \"Miramax Films\", \"id\": 14}, {\"name\":...</td>\n",
       "      <td>[{\"iso_3166_1\": \"US\", \"name\": \"United States o...</td>\n",
       "      <td>[{\"iso_639_1\": \"en\", \"name\": \"English\"}]</td>\n",
       "      <td>Twelve outrageous guests. Four scandalous requ...</td>\n",
       "      <td>Tim Roth Antonio Banderas Jennifer Beals Madon...</td>\n",
       "      <td>[{'name': 'Allison Anders', 'gender': 1, 'depa...</td>\n",
       "      <td>Allison Anders</td>\n",
       "    </tr>\n",
       "    <tr>\n",
       "      <th>1</th>\n",
       "      <td>2</td>\n",
       "      <td>Star Wars</td>\n",
       "      <td>Adventure Action Science Fiction</td>\n",
       "      <td>en</td>\n",
       "      <td>11000000</td>\n",
       "      <td>126.393695</td>\n",
       "      <td>25-05-1977</td>\n",
       "      <td>775398007</td>\n",
       "      <td>121.0</td>\n",
       "      <td>8.1</td>\n",
       "      <td>...</td>\n",
       "      <td>http://www.starwars.com/films/star-wars-episod...</td>\n",
       "      <td>android galaxy hermit death star lightsaber</td>\n",
       "      <td>Princess Leia is captured and held hostage by ...</td>\n",
       "      <td>[{\"name\": \"Lucasfilm\", \"id\": 1}, {\"name\": \"Twe...</td>\n",
       "      <td>[{\"iso_3166_1\": \"US\", \"name\": \"United States o...</td>\n",
       "      <td>[{\"iso_639_1\": \"en\", \"name\": \"English\"}]</td>\n",
       "      <td>A long time ago in a galaxy far, far away...</td>\n",
       "      <td>Mark Hamill Harrison Ford Carrie Fisher Peter ...</td>\n",
       "      <td>[{'name': 'George Lucas', 'gender': 2, 'depart...</td>\n",
       "      <td>George Lucas</td>\n",
       "    </tr>\n",
       "    <tr>\n",
       "      <th>2</th>\n",
       "      <td>3</td>\n",
       "      <td>Finding Nemo</td>\n",
       "      <td>Animation Family</td>\n",
       "      <td>en</td>\n",
       "      <td>94000000</td>\n",
       "      <td>85.688789</td>\n",
       "      <td>30-05-2003</td>\n",
       "      <td>940335536</td>\n",
       "      <td>100.0</td>\n",
       "      <td>7.6</td>\n",
       "      <td>...</td>\n",
       "      <td>http://movies.disney.com/finding-nemo</td>\n",
       "      <td>father son relationship harbor underwater fish...</td>\n",
       "      <td>Nemo, an adventurous young clownfish, is unexp...</td>\n",
       "      <td>[{\"name\": \"Pixar Animation Studios\", \"id\": 3}]</td>\n",
       "      <td>[{\"iso_3166_1\": \"US\", \"name\": \"United States o...</td>\n",
       "      <td>[{\"iso_639_1\": \"en\", \"name\": \"English\"}]</td>\n",
       "      <td>There are 3.7 trillion fish in the ocean, they...</td>\n",
       "      <td>Albert Brooks Ellen DeGeneres Alexander Gould ...</td>\n",
       "      <td>[{'name': 'Andrew Stanton', 'gender': 2, 'depa...</td>\n",
       "      <td>Andrew Stanton</td>\n",
       "    </tr>\n",
       "    <tr>\n",
       "      <th>3</th>\n",
       "      <td>4</td>\n",
       "      <td>Forrest Gump</td>\n",
       "      <td>Comedy Drama Romance</td>\n",
       "      <td>en</td>\n",
       "      <td>55000000</td>\n",
       "      <td>138.133331</td>\n",
       "      <td>06-07-1994</td>\n",
       "      <td>677945399</td>\n",
       "      <td>142.0</td>\n",
       "      <td>8.2</td>\n",
       "      <td>...</td>\n",
       "      <td>NaN</td>\n",
       "      <td>vietnam veteran hippie mentally disabled runni...</td>\n",
       "      <td>A man with a low IQ has accomplished great thi...</td>\n",
       "      <td>[{\"name\": \"Paramount Pictures\", \"id\": 4}]</td>\n",
       "      <td>[{\"iso_3166_1\": \"US\", \"name\": \"United States o...</td>\n",
       "      <td>[{\"iso_639_1\": \"en\", \"name\": \"English\"}]</td>\n",
       "      <td>The world will never be the same, once you've ...</td>\n",
       "      <td>Tom Hanks Robin Wright Gary Sinise Mykelti Wil...</td>\n",
       "      <td>[{'name': 'Alan Silvestri', 'gender': 2, 'depa...</td>\n",
       "      <td>Robert Zemeckis</td>\n",
       "    </tr>\n",
       "    <tr>\n",
       "      <th>4</th>\n",
       "      <td>5</td>\n",
       "      <td>American Beauty</td>\n",
       "      <td>Drama</td>\n",
       "      <td>en</td>\n",
       "      <td>15000000</td>\n",
       "      <td>80.878605</td>\n",
       "      <td>15-09-1999</td>\n",
       "      <td>356296601</td>\n",
       "      <td>122.0</td>\n",
       "      <td>7.9</td>\n",
       "      <td>...</td>\n",
       "      <td>http://www.dreamworks.com/ab/</td>\n",
       "      <td>male nudity female nudity adultery midlife cri...</td>\n",
       "      <td>Lester Burnham, a depressed suburban father in...</td>\n",
       "      <td>[{\"name\": \"DreamWorks SKG\", \"id\": 27}, {\"name\"...</td>\n",
       "      <td>[{\"iso_3166_1\": \"US\", \"name\": \"United States o...</td>\n",
       "      <td>[{\"iso_639_1\": \"en\", \"name\": \"English\"}]</td>\n",
       "      <td>Look closer.</td>\n",
       "      <td>Kevin Spacey Annette Bening Thora Birch Wes Be...</td>\n",
       "      <td>[{'name': 'Thomas Newman', 'gender': 2, 'depar...</td>\n",
       "      <td>Sam Mendes</td>\n",
       "    </tr>\n",
       "  </tbody>\n",
       "</table>\n",
       "<p>5 rows × 21 columns</p>\n",
       "</div>"
      ],
      "text/plain": [
       "   Movie_ID      Movie_Title                       Movie_Genre Movie_Language  \\\n",
       "0         1       Four Rooms                      Crime Comedy             en   \n",
       "1         2        Star Wars  Adventure Action Science Fiction             en   \n",
       "2         3     Finding Nemo                  Animation Family             en   \n",
       "3         4     Forrest Gump              Comedy Drama Romance             en   \n",
       "4         5  American Beauty                             Drama             en   \n",
       "\n",
       "   Movie_Budget  Movie_Popularity Movie_Release_Date  Movie_Revenue  \\\n",
       "0       4000000         22.876230         09-12-1995        4300000   \n",
       "1      11000000        126.393695         25-05-1977      775398007   \n",
       "2      94000000         85.688789         30-05-2003      940335536   \n",
       "3      55000000        138.133331         06-07-1994      677945399   \n",
       "4      15000000         80.878605         15-09-1999      356296601   \n",
       "\n",
       "   Movie_Runtime  Movie_Vote  ...  \\\n",
       "0           98.0         6.5  ...   \n",
       "1          121.0         8.1  ...   \n",
       "2          100.0         7.6  ...   \n",
       "3          142.0         8.2  ...   \n",
       "4          122.0         7.9  ...   \n",
       "\n",
       "                                      Movie_Homepage  \\\n",
       "0                                                NaN   \n",
       "1  http://www.starwars.com/films/star-wars-episod...   \n",
       "2              http://movies.disney.com/finding-nemo   \n",
       "3                                                NaN   \n",
       "4                      http://www.dreamworks.com/ab/   \n",
       "\n",
       "                                      Movie_Keywords  \\\n",
       "0          hotel new year's eve witch bet hotel room   \n",
       "1        android galaxy hermit death star lightsaber   \n",
       "2  father son relationship harbor underwater fish...   \n",
       "3  vietnam veteran hippie mentally disabled runni...   \n",
       "4  male nudity female nudity adultery midlife cri...   \n",
       "\n",
       "                                      Movie_Overview  \\\n",
       "0  It's Ted the Bellhop's first night on the job....   \n",
       "1  Princess Leia is captured and held hostage by ...   \n",
       "2  Nemo, an adventurous young clownfish, is unexp...   \n",
       "3  A man with a low IQ has accomplished great thi...   \n",
       "4  Lester Burnham, a depressed suburban father in...   \n",
       "\n",
       "                              Movie_Production_House  \\\n",
       "0  [{\"name\": \"Miramax Films\", \"id\": 14}, {\"name\":...   \n",
       "1  [{\"name\": \"Lucasfilm\", \"id\": 1}, {\"name\": \"Twe...   \n",
       "2     [{\"name\": \"Pixar Animation Studios\", \"id\": 3}]   \n",
       "3          [{\"name\": \"Paramount Pictures\", \"id\": 4}]   \n",
       "4  [{\"name\": \"DreamWorks SKG\", \"id\": 27}, {\"name\"...   \n",
       "\n",
       "                            Movie_Production_Country  \\\n",
       "0  [{\"iso_3166_1\": \"US\", \"name\": \"United States o...   \n",
       "1  [{\"iso_3166_1\": \"US\", \"name\": \"United States o...   \n",
       "2  [{\"iso_3166_1\": \"US\", \"name\": \"United States o...   \n",
       "3  [{\"iso_3166_1\": \"US\", \"name\": \"United States o...   \n",
       "4  [{\"iso_3166_1\": \"US\", \"name\": \"United States o...   \n",
       "\n",
       "                      Movie_Spoken_Language  \\\n",
       "0  [{\"iso_639_1\": \"en\", \"name\": \"English\"}]   \n",
       "1  [{\"iso_639_1\": \"en\", \"name\": \"English\"}]   \n",
       "2  [{\"iso_639_1\": \"en\", \"name\": \"English\"}]   \n",
       "3  [{\"iso_639_1\": \"en\", \"name\": \"English\"}]   \n",
       "4  [{\"iso_639_1\": \"en\", \"name\": \"English\"}]   \n",
       "\n",
       "                                       Movie_Tagline  \\\n",
       "0  Twelve outrageous guests. Four scandalous requ...   \n",
       "1       A long time ago in a galaxy far, far away...   \n",
       "2  There are 3.7 trillion fish in the ocean, they...   \n",
       "3  The world will never be the same, once you've ...   \n",
       "4                                       Look closer.   \n",
       "\n",
       "                                          Movie_Cast  \\\n",
       "0  Tim Roth Antonio Banderas Jennifer Beals Madon...   \n",
       "1  Mark Hamill Harrison Ford Carrie Fisher Peter ...   \n",
       "2  Albert Brooks Ellen DeGeneres Alexander Gould ...   \n",
       "3  Tom Hanks Robin Wright Gary Sinise Mykelti Wil...   \n",
       "4  Kevin Spacey Annette Bening Thora Birch Wes Be...   \n",
       "\n",
       "                                          Movie_Crew   Movie_Director  \n",
       "0  [{'name': 'Allison Anders', 'gender': 1, 'depa...   Allison Anders  \n",
       "1  [{'name': 'George Lucas', 'gender': 2, 'depart...     George Lucas  \n",
       "2  [{'name': 'Andrew Stanton', 'gender': 2, 'depa...   Andrew Stanton  \n",
       "3  [{'name': 'Alan Silvestri', 'gender': 2, 'depa...  Robert Zemeckis  \n",
       "4  [{'name': 'Thomas Newman', 'gender': 2, 'depar...       Sam Mendes  \n",
       "\n",
       "[5 rows x 21 columns]"
      ]
     },
     "execution_count": 4,
     "metadata": {},
     "output_type": "execute_result"
    }
   ],
   "source": [
    "df.head()"
   ]
  },
  {
   "cell_type": "markdown",
   "id": "1fd81b5d",
   "metadata": {
    "id": "9ZKwvopWLt6s",
    "papermill": {
     "duration": 0.008635,
     "end_time": "2023-07-16T11:37:58.962218",
     "exception": false,
     "start_time": "2023-07-16T11:37:58.953583",
     "status": "completed"
    },
    "tags": []
   },
   "source": [
    "**Describe Data**"
   ]
  },
  {
   "cell_type": "code",
   "execution_count": 5,
   "id": "cc39a837",
   "metadata": {
    "execution": {
     "iopub.execute_input": "2023-07-16T11:37:58.982290Z",
     "iopub.status.busy": "2023-07-16T11:37:58.981326Z",
     "iopub.status.idle": "2023-07-16T11:37:59.015644Z",
     "shell.execute_reply": "2023-07-16T11:37:59.013609Z"
    },
    "id": "-uRMEZ43L9tN",
    "outputId": "a4e4c065-141e-4e0f-987d-ed0c761c0e57",
    "papermill": {
     "duration": 0.047034,
     "end_time": "2023-07-16T11:37:59.018194",
     "exception": false,
     "start_time": "2023-07-16T11:37:58.971160",
     "status": "completed"
    },
    "tags": []
   },
   "outputs": [
    {
     "name": "stdout",
     "output_type": "stream",
     "text": [
      "<class 'pandas.core.frame.DataFrame'>\n",
      "RangeIndex: 4760 entries, 0 to 4759\n",
      "Data columns (total 21 columns):\n",
      " #   Column                    Non-Null Count  Dtype  \n",
      "---  ------                    --------------  -----  \n",
      " 0   Movie_ID                  4760 non-null   int64  \n",
      " 1   Movie_Title               4760 non-null   object \n",
      " 2   Movie_Genre               4760 non-null   object \n",
      " 3   Movie_Language            4760 non-null   object \n",
      " 4   Movie_Budget              4760 non-null   int64  \n",
      " 5   Movie_Popularity          4760 non-null   float64\n",
      " 6   Movie_Release_Date        4760 non-null   object \n",
      " 7   Movie_Revenue             4760 non-null   int64  \n",
      " 8   Movie_Runtime             4758 non-null   float64\n",
      " 9   Movie_Vote                4760 non-null   float64\n",
      " 10  Movie_Vote_Count          4760 non-null   int64  \n",
      " 11  Movie_Homepage            1699 non-null   object \n",
      " 12  Movie_Keywords            4373 non-null   object \n",
      " 13  Movie_Overview            4757 non-null   object \n",
      " 14  Movie_Production_House    4760 non-null   object \n",
      " 15  Movie_Production_Country  4760 non-null   object \n",
      " 16  Movie_Spoken_Language     4760 non-null   object \n",
      " 17  Movie_Tagline             3942 non-null   object \n",
      " 18  Movie_Cast                4733 non-null   object \n",
      " 19  Movie_Crew                4760 non-null   object \n",
      " 20  Movie_Director            4738 non-null   object \n",
      "dtypes: float64(3), int64(4), object(14)\n",
      "memory usage: 781.1+ KB\n"
     ]
    }
   ],
   "source": [
    "df.info()"
   ]
  },
  {
   "cell_type": "code",
   "execution_count": 6,
   "id": "be124162",
   "metadata": {
    "execution": {
     "iopub.execute_input": "2023-07-16T11:37:59.038704Z",
     "iopub.status.busy": "2023-07-16T11:37:59.038297Z",
     "iopub.status.idle": "2023-07-16T11:37:59.044190Z",
     "shell.execute_reply": "2023-07-16T11:37:59.043329Z"
    },
    "id": "j75MpSmQL_9x",
    "outputId": "c3255453-f379-4a11-c98a-b2174ba4da2f",
    "papermill": {
     "duration": 0.018487,
     "end_time": "2023-07-16T11:37:59.046245",
     "exception": false,
     "start_time": "2023-07-16T11:37:59.027758",
     "status": "completed"
    },
    "tags": []
   },
   "outputs": [
    {
     "data": {
      "text/plain": [
       "(4760, 21)"
      ]
     },
     "execution_count": 6,
     "metadata": {},
     "output_type": "execute_result"
    }
   ],
   "source": [
    "df.shape"
   ]
  },
  {
   "cell_type": "code",
   "execution_count": 7,
   "id": "fe2290ee",
   "metadata": {
    "execution": {
     "iopub.execute_input": "2023-07-16T11:37:59.067458Z",
     "iopub.status.busy": "2023-07-16T11:37:59.066708Z",
     "iopub.status.idle": "2023-07-16T11:37:59.074233Z",
     "shell.execute_reply": "2023-07-16T11:37:59.073095Z"
    },
    "id": "NKu8XDNjMIot",
    "outputId": "66e381ed-733d-4638-b67a-fcf5d61c81a3",
    "papermill": {
     "duration": 0.021572,
     "end_time": "2023-07-16T11:37:59.077239",
     "exception": false,
     "start_time": "2023-07-16T11:37:59.055667",
     "status": "completed"
    },
    "tags": []
   },
   "outputs": [
    {
     "data": {
      "text/plain": [
       "Index(['Movie_ID', 'Movie_Title', 'Movie_Genre', 'Movie_Language',\n",
       "       'Movie_Budget', 'Movie_Popularity', 'Movie_Release_Date',\n",
       "       'Movie_Revenue', 'Movie_Runtime', 'Movie_Vote', 'Movie_Vote_Count',\n",
       "       'Movie_Homepage', 'Movie_Keywords', 'Movie_Overview',\n",
       "       'Movie_Production_House', 'Movie_Production_Country',\n",
       "       'Movie_Spoken_Language', 'Movie_Tagline', 'Movie_Cast', 'Movie_Crew',\n",
       "       'Movie_Director'],\n",
       "      dtype='object')"
      ]
     },
     "execution_count": 7,
     "metadata": {},
     "output_type": "execute_result"
    }
   ],
   "source": [
    "df.columns"
   ]
  },
  {
   "cell_type": "markdown",
   "id": "e72162de",
   "metadata": {
    "id": "it4xOywjM37s",
    "papermill": {
     "duration": 0.009775,
     "end_time": "2023-07-16T11:37:59.096995",
     "exception": false,
     "start_time": "2023-07-16T11:37:59.087220",
     "status": "completed"
    },
    "tags": []
   },
   "source": [
    "**Get Feature Selection**"
   ]
  },
  {
   "cell_type": "code",
   "execution_count": 8,
   "id": "a97b38b9",
   "metadata": {
    "execution": {
     "iopub.execute_input": "2023-07-16T11:37:59.118021Z",
     "iopub.status.busy": "2023-07-16T11:37:59.117164Z",
     "iopub.status.idle": "2023-07-16T11:37:59.128206Z",
     "shell.execute_reply": "2023-07-16T11:37:59.127441Z"
    },
    "id": "xebbVdpxNGFI",
    "papermill": {
     "duration": 0.023914,
     "end_time": "2023-07-16T11:37:59.130471",
     "exception": false,
     "start_time": "2023-07-16T11:37:59.106557",
     "status": "completed"
    },
    "tags": []
   },
   "outputs": [],
   "source": [
    "df_features=df[['Movie_Genre','Movie_Keywords','Movie_Tagline','Movie_Cast','Movie_Director']].fillna('')"
   ]
  },
  {
   "cell_type": "markdown",
   "id": "22722473",
   "metadata": {
    "id": "Z-yK_5RtQLc7",
    "papermill": {
     "duration": 0.009312,
     "end_time": "2023-07-16T11:37:59.149268",
     "exception": false,
     "start_time": "2023-07-16T11:37:59.139956",
     "status": "completed"
    },
    "tags": []
   },
   "source": [
    "selected five existing features to recommend movies.It may vary from one project to another.Like one can add vote counts,budget,language etc."
   ]
  },
  {
   "cell_type": "code",
   "execution_count": 9,
   "id": "027a4036",
   "metadata": {
    "execution": {
     "iopub.execute_input": "2023-07-16T11:37:59.170182Z",
     "iopub.status.busy": "2023-07-16T11:37:59.169550Z",
     "iopub.status.idle": "2023-07-16T11:37:59.175931Z",
     "shell.execute_reply": "2023-07-16T11:37:59.174858Z"
    },
    "id": "8yp-aX_tNb5u",
    "outputId": "102e2bce-d8f7-4701-981a-544091a3b81c",
    "papermill": {
     "duration": 0.019312,
     "end_time": "2023-07-16T11:37:59.178140",
     "exception": false,
     "start_time": "2023-07-16T11:37:59.158828",
     "status": "completed"
    },
    "tags": []
   },
   "outputs": [
    {
     "data": {
      "text/plain": [
       "(4760, 5)"
      ]
     },
     "execution_count": 9,
     "metadata": {},
     "output_type": "execute_result"
    }
   ],
   "source": [
    "df_features.shape"
   ]
  },
  {
   "cell_type": "code",
   "execution_count": 10,
   "id": "a0ae5e02",
   "metadata": {
    "execution": {
     "iopub.execute_input": "2023-07-16T11:37:59.200157Z",
     "iopub.status.busy": "2023-07-16T11:37:59.199508Z",
     "iopub.status.idle": "2023-07-16T11:37:59.213396Z",
     "shell.execute_reply": "2023-07-16T11:37:59.212354Z"
    },
    "id": "zqJFq8OhNhXC",
    "outputId": "3fab279b-07aa-44f8-b20f-d25a1431ab86",
    "papermill": {
     "duration": 0.026827,
     "end_time": "2023-07-16T11:37:59.215497",
     "exception": false,
     "start_time": "2023-07-16T11:37:59.188670",
     "status": "completed"
    },
    "tags": []
   },
   "outputs": [
    {
     "data": {
      "text/html": [
       "<div>\n",
       "<style scoped>\n",
       "    .dataframe tbody tr th:only-of-type {\n",
       "        vertical-align: middle;\n",
       "    }\n",
       "\n",
       "    .dataframe tbody tr th {\n",
       "        vertical-align: top;\n",
       "    }\n",
       "\n",
       "    .dataframe thead th {\n",
       "        text-align: right;\n",
       "    }\n",
       "</style>\n",
       "<table border=\"1\" class=\"dataframe\">\n",
       "  <thead>\n",
       "    <tr style=\"text-align: right;\">\n",
       "      <th></th>\n",
       "      <th>Movie_Genre</th>\n",
       "      <th>Movie_Keywords</th>\n",
       "      <th>Movie_Tagline</th>\n",
       "      <th>Movie_Cast</th>\n",
       "      <th>Movie_Director</th>\n",
       "    </tr>\n",
       "  </thead>\n",
       "  <tbody>\n",
       "    <tr>\n",
       "      <th>0</th>\n",
       "      <td>Crime Comedy</td>\n",
       "      <td>hotel new year's eve witch bet hotel room</td>\n",
       "      <td>Twelve outrageous guests. Four scandalous requ...</td>\n",
       "      <td>Tim Roth Antonio Banderas Jennifer Beals Madon...</td>\n",
       "      <td>Allison Anders</td>\n",
       "    </tr>\n",
       "    <tr>\n",
       "      <th>1</th>\n",
       "      <td>Adventure Action Science Fiction</td>\n",
       "      <td>android galaxy hermit death star lightsaber</td>\n",
       "      <td>A long time ago in a galaxy far, far away...</td>\n",
       "      <td>Mark Hamill Harrison Ford Carrie Fisher Peter ...</td>\n",
       "      <td>George Lucas</td>\n",
       "    </tr>\n",
       "    <tr>\n",
       "      <th>2</th>\n",
       "      <td>Animation Family</td>\n",
       "      <td>father son relationship harbor underwater fish...</td>\n",
       "      <td>There are 3.7 trillion fish in the ocean, they...</td>\n",
       "      <td>Albert Brooks Ellen DeGeneres Alexander Gould ...</td>\n",
       "      <td>Andrew Stanton</td>\n",
       "    </tr>\n",
       "    <tr>\n",
       "      <th>3</th>\n",
       "      <td>Comedy Drama Romance</td>\n",
       "      <td>vietnam veteran hippie mentally disabled runni...</td>\n",
       "      <td>The world will never be the same, once you've ...</td>\n",
       "      <td>Tom Hanks Robin Wright Gary Sinise Mykelti Wil...</td>\n",
       "      <td>Robert Zemeckis</td>\n",
       "    </tr>\n",
       "    <tr>\n",
       "      <th>4</th>\n",
       "      <td>Drama</td>\n",
       "      <td>male nudity female nudity adultery midlife cri...</td>\n",
       "      <td>Look closer.</td>\n",
       "      <td>Kevin Spacey Annette Bening Thora Birch Wes Be...</td>\n",
       "      <td>Sam Mendes</td>\n",
       "    </tr>\n",
       "    <tr>\n",
       "      <th>...</th>\n",
       "      <td>...</td>\n",
       "      <td>...</td>\n",
       "      <td>...</td>\n",
       "      <td>...</td>\n",
       "      <td>...</td>\n",
       "    </tr>\n",
       "    <tr>\n",
       "      <th>4755</th>\n",
       "      <td>Horror</td>\n",
       "      <td></td>\n",
       "      <td>The hot spot where Satan's waitin'.</td>\n",
       "      <td>Lisa Hart Carroll Michael Des Barres Paul Drak...</td>\n",
       "      <td>Pece Dingo</td>\n",
       "    </tr>\n",
       "    <tr>\n",
       "      <th>4756</th>\n",
       "      <td>Comedy Family Drama</td>\n",
       "      <td></td>\n",
       "      <td>It’s better to stand out than to fit in.</td>\n",
       "      <td>Roni Akurati Brighton Sharbino Jason Lee Anjul...</td>\n",
       "      <td>Frank Lotito</td>\n",
       "    </tr>\n",
       "    <tr>\n",
       "      <th>4757</th>\n",
       "      <td>Thriller Drama</td>\n",
       "      <td>christian film sex trafficking</td>\n",
       "      <td>She never knew it could happen to her...</td>\n",
       "      <td>Nicole Smolen Kim Baldwin Ariana Stephens Brys...</td>\n",
       "      <td>Jaco Booyens</td>\n",
       "    </tr>\n",
       "    <tr>\n",
       "      <th>4758</th>\n",
       "      <td>Family</td>\n",
       "      <td></td>\n",
       "      <td></td>\n",
       "      <td></td>\n",
       "      <td></td>\n",
       "    </tr>\n",
       "    <tr>\n",
       "      <th>4759</th>\n",
       "      <td>Documentary</td>\n",
       "      <td>music actors legendary perfomer classic hollyw...</td>\n",
       "      <td></td>\n",
       "      <td>Tony Oppedisano</td>\n",
       "      <td>Simon Napier-Bell</td>\n",
       "    </tr>\n",
       "  </tbody>\n",
       "</table>\n",
       "<p>4760 rows × 5 columns</p>\n",
       "</div>"
      ],
      "text/plain": [
       "                           Movie_Genre  \\\n",
       "0                         Crime Comedy   \n",
       "1     Adventure Action Science Fiction   \n",
       "2                     Animation Family   \n",
       "3                 Comedy Drama Romance   \n",
       "4                                Drama   \n",
       "...                                ...   \n",
       "4755                            Horror   \n",
       "4756               Comedy Family Drama   \n",
       "4757                    Thriller Drama   \n",
       "4758                            Family   \n",
       "4759                       Documentary   \n",
       "\n",
       "                                         Movie_Keywords  \\\n",
       "0             hotel new year's eve witch bet hotel room   \n",
       "1           android galaxy hermit death star lightsaber   \n",
       "2     father son relationship harbor underwater fish...   \n",
       "3     vietnam veteran hippie mentally disabled runni...   \n",
       "4     male nudity female nudity adultery midlife cri...   \n",
       "...                                                 ...   \n",
       "4755                                                      \n",
       "4756                                                      \n",
       "4757                     christian film sex trafficking   \n",
       "4758                                                      \n",
       "4759  music actors legendary perfomer classic hollyw...   \n",
       "\n",
       "                                          Movie_Tagline  \\\n",
       "0     Twelve outrageous guests. Four scandalous requ...   \n",
       "1          A long time ago in a galaxy far, far away...   \n",
       "2     There are 3.7 trillion fish in the ocean, they...   \n",
       "3     The world will never be the same, once you've ...   \n",
       "4                                          Look closer.   \n",
       "...                                                 ...   \n",
       "4755                The hot spot where Satan's waitin'.   \n",
       "4756           It’s better to stand out than to fit in.   \n",
       "4757           She never knew it could happen to her...   \n",
       "4758                                                      \n",
       "4759                                                      \n",
       "\n",
       "                                             Movie_Cast     Movie_Director  \n",
       "0     Tim Roth Antonio Banderas Jennifer Beals Madon...     Allison Anders  \n",
       "1     Mark Hamill Harrison Ford Carrie Fisher Peter ...       George Lucas  \n",
       "2     Albert Brooks Ellen DeGeneres Alexander Gould ...     Andrew Stanton  \n",
       "3     Tom Hanks Robin Wright Gary Sinise Mykelti Wil...    Robert Zemeckis  \n",
       "4     Kevin Spacey Annette Bening Thora Birch Wes Be...         Sam Mendes  \n",
       "...                                                 ...                ...  \n",
       "4755  Lisa Hart Carroll Michael Des Barres Paul Drak...         Pece Dingo  \n",
       "4756  Roni Akurati Brighton Sharbino Jason Lee Anjul...       Frank Lotito  \n",
       "4757  Nicole Smolen Kim Baldwin Ariana Stephens Brys...       Jaco Booyens  \n",
       "4758                                                                        \n",
       "4759                                    Tony Oppedisano  Simon Napier-Bell  \n",
       "\n",
       "[4760 rows x 5 columns]"
      ]
     },
     "execution_count": 10,
     "metadata": {},
     "output_type": "execute_result"
    }
   ],
   "source": [
    "df_features"
   ]
  },
  {
   "cell_type": "code",
   "execution_count": 11,
   "id": "cc6743c3",
   "metadata": {
    "execution": {
     "iopub.execute_input": "2023-07-16T11:37:59.237417Z",
     "iopub.status.busy": "2023-07-16T11:37:59.236804Z",
     "iopub.status.idle": "2023-07-16T11:37:59.249277Z",
     "shell.execute_reply": "2023-07-16T11:37:59.248476Z"
    },
    "id": "O9zxlN73NvUh",
    "papermill": {
     "duration": 0.026107,
     "end_time": "2023-07-16T11:37:59.251603",
     "exception": false,
     "start_time": "2023-07-16T11:37:59.225496",
     "status": "completed"
    },
    "tags": []
   },
   "outputs": [],
   "source": [
    "x=df_features['Movie_Genre']+' '+df_features['Movie_Keywords']+' '+df_features['Movie_Tagline']+' '+df_features['Movie_Cast']+' '+df_features['Movie_Director']"
   ]
  },
  {
   "cell_type": "code",
   "execution_count": 12,
   "id": "4de4d8e2",
   "metadata": {
    "execution": {
     "iopub.execute_input": "2023-07-16T11:37:59.274278Z",
     "iopub.status.busy": "2023-07-16T11:37:59.273686Z",
     "iopub.status.idle": "2023-07-16T11:37:59.281531Z",
     "shell.execute_reply": "2023-07-16T11:37:59.280525Z"
    },
    "id": "WjKKbpudOhk4",
    "outputId": "687fe32f-4d3d-4026-8275-2c6ef3d6347d",
    "papermill": {
     "duration": 0.021615,
     "end_time": "2023-07-16T11:37:59.283724",
     "exception": false,
     "start_time": "2023-07-16T11:37:59.262109",
     "status": "completed"
    },
    "tags": []
   },
   "outputs": [
    {
     "data": {
      "text/plain": [
       "0       Crime Comedy hotel new year's eve witch bet ho...\n",
       "1       Adventure Action Science Fiction android galax...\n",
       "2       Animation Family father son relationship harbo...\n",
       "3       Comedy Drama Romance vietnam veteran hippie me...\n",
       "4       Drama male nudity female nudity adultery midli...\n",
       "                              ...                        \n",
       "4755    Horror  The hot spot where Satan's waitin'. Li...\n",
       "4756    Comedy Family Drama  It’s better to stand out ...\n",
       "4757    Thriller Drama christian film sex trafficking ...\n",
       "4758                                           Family    \n",
       "4759    Documentary music actors legendary perfomer cl...\n",
       "Length: 4760, dtype: object"
      ]
     },
     "execution_count": 12,
     "metadata": {},
     "output_type": "execute_result"
    }
   ],
   "source": [
    "x"
   ]
  },
  {
   "cell_type": "code",
   "execution_count": 13,
   "id": "c807d7f6",
   "metadata": {
    "execution": {
     "iopub.execute_input": "2023-07-16T11:37:59.306499Z",
     "iopub.status.busy": "2023-07-16T11:37:59.305760Z",
     "iopub.status.idle": "2023-07-16T11:37:59.311108Z",
     "shell.execute_reply": "2023-07-16T11:37:59.310188Z"
    },
    "id": "OEe6eH53OjqL",
    "outputId": "f3f98681-7e93-43a5-d5e1-84a84a69b55f",
    "papermill": {
     "duration": 0.01889,
     "end_time": "2023-07-16T11:37:59.313041",
     "exception": false,
     "start_time": "2023-07-16T11:37:59.294151",
     "status": "completed"
    },
    "tags": []
   },
   "outputs": [
    {
     "data": {
      "text/plain": [
       "(4760,)"
      ]
     },
     "execution_count": 13,
     "metadata": {},
     "output_type": "execute_result"
    }
   ],
   "source": [
    "x.shape"
   ]
  },
  {
   "cell_type": "markdown",
   "id": "91b2c6bf",
   "metadata": {
    "id": "o-JxyBfoOppH",
    "papermill": {
     "duration": 0.009922,
     "end_time": "2023-07-16T11:37:59.333385",
     "exception": false,
     "start_time": "2023-07-16T11:37:59.323463",
     "status": "completed"
    },
    "tags": []
   },
   "source": [
    "**Get Feature Text conversion to Tokens**"
   ]
  },
  {
   "cell_type": "code",
   "execution_count": 14,
   "id": "05032549",
   "metadata": {
    "execution": {
     "iopub.execute_input": "2023-07-16T11:37:59.356198Z",
     "iopub.status.busy": "2023-07-16T11:37:59.355589Z",
     "iopub.status.idle": "2023-07-16T11:38:00.517481Z",
     "shell.execute_reply": "2023-07-16T11:38:00.516542Z"
    },
    "id": "ASBwLDB0OyTj",
    "papermill": {
     "duration": 1.176233,
     "end_time": "2023-07-16T11:38:00.520016",
     "exception": false,
     "start_time": "2023-07-16T11:37:59.343783",
     "status": "completed"
    },
    "tags": []
   },
   "outputs": [
    {
     "name": "stderr",
     "output_type": "stream",
     "text": [
      "/opt/conda/lib/python3.10/site-packages/scipy/__init__.py:146: UserWarning: A NumPy version >=1.16.5 and <1.23.0 is required for this version of SciPy (detected version 1.23.5\n",
      "  warnings.warn(f\"A NumPy version >={np_minversion} and <{np_maxversion}\"\n"
     ]
    }
   ],
   "source": [
    "from sklearn.feature_extraction.text import TfidfVectorizer"
   ]
  },
  {
   "cell_type": "code",
   "execution_count": 15,
   "id": "e3eaae65",
   "metadata": {
    "execution": {
     "iopub.execute_input": "2023-07-16T11:38:00.543518Z",
     "iopub.status.busy": "2023-07-16T11:38:00.542585Z",
     "iopub.status.idle": "2023-07-16T11:38:00.547615Z",
     "shell.execute_reply": "2023-07-16T11:38:00.546547Z"
    },
    "id": "658ObEmYO8jW",
    "papermill": {
     "duration": 0.019008,
     "end_time": "2023-07-16T11:38:00.549806",
     "exception": false,
     "start_time": "2023-07-16T11:38:00.530798",
     "status": "completed"
    },
    "tags": []
   },
   "outputs": [],
   "source": [
    "tfidf=TfidfVectorizer()"
   ]
  },
  {
   "cell_type": "code",
   "execution_count": 16,
   "id": "f50b4a6b",
   "metadata": {
    "execution": {
     "iopub.execute_input": "2023-07-16T11:38:00.573691Z",
     "iopub.status.busy": "2023-07-16T11:38:00.572452Z",
     "iopub.status.idle": "2023-07-16T11:38:00.775543Z",
     "shell.execute_reply": "2023-07-16T11:38:00.774290Z"
    },
    "id": "Nl5FjD6gPHe7",
    "papermill": {
     "duration": 0.218024,
     "end_time": "2023-07-16T11:38:00.778455",
     "exception": false,
     "start_time": "2023-07-16T11:38:00.560431",
     "status": "completed"
    },
    "tags": []
   },
   "outputs": [],
   "source": [
    "x=tfidf.fit_transform(x)"
   ]
  },
  {
   "cell_type": "code",
   "execution_count": 17,
   "id": "e6cc0b8d",
   "metadata": {
    "execution": {
     "iopub.execute_input": "2023-07-16T11:38:00.802852Z",
     "iopub.status.busy": "2023-07-16T11:38:00.801696Z",
     "iopub.status.idle": "2023-07-16T11:38:00.808516Z",
     "shell.execute_reply": "2023-07-16T11:38:00.807586Z"
    },
    "id": "njaWCUx_PPxa",
    "outputId": "789155b1-c947-493d-f55f-bd696dbb66a2",
    "papermill": {
     "duration": 0.021533,
     "end_time": "2023-07-16T11:38:00.810762",
     "exception": false,
     "start_time": "2023-07-16T11:38:00.789229",
     "status": "completed"
    },
    "tags": []
   },
   "outputs": [
    {
     "data": {
      "text/plain": [
       "(4760, 17258)"
      ]
     },
     "execution_count": 17,
     "metadata": {},
     "output_type": "execute_result"
    }
   ],
   "source": [
    "x.shape"
   ]
  },
  {
   "cell_type": "code",
   "execution_count": 18,
   "id": "a31a3f8d",
   "metadata": {
    "execution": {
     "iopub.execute_input": "2023-07-16T11:38:00.834348Z",
     "iopub.status.busy": "2023-07-16T11:38:00.833608Z",
     "iopub.status.idle": "2023-07-16T11:38:00.841177Z",
     "shell.execute_reply": "2023-07-16T11:38:00.839709Z"
    },
    "id": "qESlggESPV03",
    "outputId": "33765729-e15d-4e74-df41-31050a1e57ba",
    "papermill": {
     "duration": 0.022156,
     "end_time": "2023-07-16T11:38:00.843804",
     "exception": false,
     "start_time": "2023-07-16T11:38:00.821648",
     "status": "completed"
    },
    "tags": []
   },
   "outputs": [
    {
     "name": "stdout",
     "output_type": "stream",
     "text": [
      "  (0, 617)\t0.1633382144407513\n",
      "  (0, 492)\t0.1432591540388685\n",
      "  (0, 15413)\t0.1465525095337543\n",
      "  (0, 9675)\t0.14226057295252661\n",
      "  (0, 9465)\t0.1659841367820977\n",
      "  (0, 1390)\t0.16898383612799558\n",
      "  (0, 7825)\t0.09799561597509843\n",
      "  (0, 1214)\t0.13865857545144072\n",
      "  (0, 729)\t0.13415063359531618\n",
      "  (0, 13093)\t0.1432591540388685\n",
      "  (0, 15355)\t0.10477815972666779\n",
      "  (0, 9048)\t0.0866842116160778\n",
      "  (0, 11161)\t0.06250380151644369\n",
      "  (0, 16773)\t0.17654247479915475\n",
      "  (0, 5612)\t0.08603537588547631\n",
      "  (0, 16735)\t0.10690083751525419\n",
      "  (0, 7904)\t0.13348000542112332\n",
      "  (0, 15219)\t0.09800472886453934\n",
      "  (0, 11242)\t0.07277788238484746\n",
      "  (0, 3878)\t0.11998399582562203\n",
      "  (0, 5499)\t0.11454057510303811\n",
      "  (0, 7071)\t0.19822417598406614\n",
      "  (0, 7454)\t0.14745635785412262\n",
      "  (0, 1495)\t0.19712637387361423\n",
      "  (0, 9206)\t0.15186283580984414\n",
      "  :\t:\n",
      "  (4757, 5455)\t0.12491480594769522\n",
      "  (4757, 2967)\t0.16273475835631626\n",
      "  (4757, 8464)\t0.23522565554066333\n",
      "  (4757, 6938)\t0.17088173678136628\n",
      "  (4757, 8379)\t0.17480603856721913\n",
      "  (4757, 15303)\t0.07654356007668191\n",
      "  (4757, 15384)\t0.09754322497537371\n",
      "  (4757, 7649)\t0.11479421494340192\n",
      "  (4757, 10896)\t0.14546473055066447\n",
      "  (4757, 4494)\t0.05675298448720501\n",
      "  (4758, 5238)\t1.0\n",
      "  (4759, 11264)\t0.33947721804318337\n",
      "  (4759, 11708)\t0.33947721804318337\n",
      "  (4759, 205)\t0.3237911628497312\n",
      "  (4759, 8902)\t0.3040290704566037\n",
      "  (4759, 14062)\t0.3237911628497312\n",
      "  (4759, 3058)\t0.2812896191863103\n",
      "  (4759, 7130)\t0.26419662449963793\n",
      "  (4759, 10761)\t0.3126617295732147\n",
      "  (4759, 4358)\t0.18306542312175342\n",
      "  (4759, 14051)\t0.20084315377640435\n",
      "  (4759, 5690)\t0.19534291014627303\n",
      "  (4759, 15431)\t0.19628653185946862\n",
      "  (4759, 1490)\t0.21197258705292082\n",
      "  (4759, 10666)\t0.15888268987343043\n"
     ]
    }
   ],
   "source": [
    "print(x)"
   ]
  },
  {
   "cell_type": "markdown",
   "id": "3aed36ee",
   "metadata": {
    "id": "YTx_fpzWPhw6",
    "papermill": {
     "duration": 0.011934,
     "end_time": "2023-07-16T11:38:00.867417",
     "exception": false,
     "start_time": "2023-07-16T11:38:00.855483",
     "status": "completed"
    },
    "tags": []
   },
   "source": [
    "**Get Similarity Score using Cosine Similarity**"
   ]
  },
  {
   "cell_type": "markdown",
   "id": "6dd3fbdb",
   "metadata": {
    "id": "bA8CspjhPsMV",
    "papermill": {
     "duration": 0.010899,
     "end_time": "2023-07-16T11:38:00.891430",
     "exception": false,
     "start_time": "2023-07-16T11:38:00.880531",
     "status": "completed"
    },
    "tags": []
   },
   "source": [
    "cosine_similarity computes the L2-normalized dot product of vectors.Euclidean(L2)normalization projects the vectors onto the unit sphere,and their dot product is then the cosine of the angle between the points denoted by the vectors."
   ]
  },
  {
   "cell_type": "code",
   "execution_count": 19,
   "id": "f9cbe512",
   "metadata": {
    "execution": {
     "iopub.execute_input": "2023-07-16T11:38:00.915707Z",
     "iopub.status.busy": "2023-07-16T11:38:00.915298Z",
     "iopub.status.idle": "2023-07-16T11:38:01.009573Z",
     "shell.execute_reply": "2023-07-16T11:38:01.008423Z"
    },
    "id": "nQ6SsMwpQ2p_",
    "papermill": {
     "duration": 0.109024,
     "end_time": "2023-07-16T11:38:01.012181",
     "exception": false,
     "start_time": "2023-07-16T11:38:00.903157",
     "status": "completed"
    },
    "tags": []
   },
   "outputs": [],
   "source": [
    "from sklearn.metrics.pairwise import cosine_similarity"
   ]
  },
  {
   "cell_type": "code",
   "execution_count": 20,
   "id": "84a44d89",
   "metadata": {
    "execution": {
     "iopub.execute_input": "2023-07-16T11:38:01.037287Z",
     "iopub.status.busy": "2023-07-16T11:38:01.036505Z",
     "iopub.status.idle": "2023-07-16T11:38:01.913591Z",
     "shell.execute_reply": "2023-07-16T11:38:01.911749Z"
    },
    "id": "CNavv_3eRBfh",
    "papermill": {
     "duration": 0.892779,
     "end_time": "2023-07-16T11:38:01.916463",
     "exception": false,
     "start_time": "2023-07-16T11:38:01.023684",
     "status": "completed"
    },
    "tags": []
   },
   "outputs": [],
   "source": [
    "Similarity_Score=cosine_similarity(x)"
   ]
  },
  {
   "cell_type": "code",
   "execution_count": 21,
   "id": "71de2a84",
   "metadata": {
    "execution": {
     "iopub.execute_input": "2023-07-16T11:38:01.943199Z",
     "iopub.status.busy": "2023-07-16T11:38:01.942796Z",
     "iopub.status.idle": "2023-07-16T11:38:01.950929Z",
     "shell.execute_reply": "2023-07-16T11:38:01.949812Z"
    },
    "id": "9_RFJBGCRLDh",
    "outputId": "c91f9f20-021a-42ba-ef4f-7dac9f2f2641",
    "papermill": {
     "duration": 0.023679,
     "end_time": "2023-07-16T11:38:01.953380",
     "exception": false,
     "start_time": "2023-07-16T11:38:01.929701",
     "status": "completed"
    },
    "tags": []
   },
   "outputs": [
    {
     "data": {
      "text/plain": [
       "array([[1.        , 0.01351235, 0.03570468, ..., 0.        , 0.        ,\n",
       "        0.        ],\n",
       "       [0.01351235, 1.        , 0.00806674, ..., 0.        , 0.        ,\n",
       "        0.        ],\n",
       "       [0.03570468, 0.00806674, 1.        , ..., 0.        , 0.08014876,\n",
       "        0.        ],\n",
       "       ...,\n",
       "       [0.        , 0.        , 0.        , ..., 1.        , 0.        ,\n",
       "        0.        ],\n",
       "       [0.        , 0.        , 0.08014876, ..., 0.        , 1.        ,\n",
       "        0.        ],\n",
       "       [0.        , 0.        , 0.        , ..., 0.        , 0.        ,\n",
       "        1.        ]])"
      ]
     },
     "execution_count": 21,
     "metadata": {},
     "output_type": "execute_result"
    }
   ],
   "source": [
    "Similarity_Score"
   ]
  },
  {
   "cell_type": "code",
   "execution_count": 22,
   "id": "57f67597",
   "metadata": {
    "execution": {
     "iopub.execute_input": "2023-07-16T11:38:01.979391Z",
     "iopub.status.busy": "2023-07-16T11:38:01.979000Z",
     "iopub.status.idle": "2023-07-16T11:38:01.985796Z",
     "shell.execute_reply": "2023-07-16T11:38:01.984490Z"
    },
    "id": "uUOQ0Dx9ROzD",
    "outputId": "b247530e-9684-4d00-dfb4-982159ed08de",
    "papermill": {
     "duration": 0.022295,
     "end_time": "2023-07-16T11:38:01.988280",
     "exception": false,
     "start_time": "2023-07-16T11:38:01.965985",
     "status": "completed"
    },
    "tags": []
   },
   "outputs": [
    {
     "data": {
      "text/plain": [
       "(4760, 4760)"
      ]
     },
     "execution_count": 22,
     "metadata": {},
     "output_type": "execute_result"
    }
   ],
   "source": [
    "Similarity_Score.shape"
   ]
  },
  {
   "cell_type": "markdown",
   "id": "f6d3619b",
   "metadata": {
    "id": "wDWKiOgURX7d",
    "papermill": {
     "duration": 0.012363,
     "end_time": "2023-07-16T11:38:02.012229",
     "exception": false,
     "start_time": "2023-07-16T11:38:01.999866",
     "status": "completed"
    },
    "tags": []
   },
   "source": [
    "**Get Movie Name as Input from User and Validate fir Closest Spelling**"
   ]
  },
  {
   "cell_type": "code",
   "execution_count": 23,
   "id": "d4752ec8",
   "metadata": {
    "execution": {
     "iopub.execute_input": "2023-07-16T11:38:02.039430Z",
     "iopub.status.busy": "2023-07-16T11:38:02.039025Z",
     "iopub.status.idle": "2023-07-16T11:38:02.426516Z",
     "shell.execute_reply": "2023-07-16T11:38:02.425118Z"
    },
    "id": "TAebMXhYRyE1",
    "outputId": "f096223c-d93b-4104-e3c4-39155f699efa",
    "papermill": {
     "duration": 0.404317,
     "end_time": "2023-07-16T11:38:02.428730",
     "exception": true,
     "start_time": "2023-07-16T11:38:02.024413",
     "status": "failed"
    },
    "tags": []
   },
   "outputs": [
    {
     "ename": "StdinNotImplementedError",
     "evalue": "raw_input was called, but this frontend does not support input requests.",
     "output_type": "error",
     "traceback": [
      "\u001b[0;31m---------------------------------------------------------------------------\u001b[0m",
      "\u001b[0;31mStdinNotImplementedError\u001b[0m                  Traceback (most recent call last)",
      "Cell \u001b[0;32mIn[23], line 1\u001b[0m\n\u001b[0;32m----> 1\u001b[0m Favourite_Movie_Name\u001b[38;5;241m=\u001b[39m\u001b[38;5;28;43minput\u001b[39;49m\u001b[43m(\u001b[49m\u001b[38;5;124;43m'\u001b[39;49m\u001b[38;5;124;43mEnter your favourite movie name :\u001b[39;49m\u001b[38;5;124;43m'\u001b[39;49m\u001b[43m)\u001b[49m\n",
      "File \u001b[0;32m/opt/conda/lib/python3.10/site-packages/ipykernel/kernelbase.py:1190\u001b[0m, in \u001b[0;36mKernel.raw_input\u001b[0;34m(self, prompt)\u001b[0m\n\u001b[1;32m   1188\u001b[0m \u001b[38;5;28;01mif\u001b[39;00m \u001b[38;5;129;01mnot\u001b[39;00m \u001b[38;5;28mself\u001b[39m\u001b[38;5;241m.\u001b[39m_allow_stdin:\n\u001b[1;32m   1189\u001b[0m     msg \u001b[38;5;241m=\u001b[39m \u001b[38;5;124m\"\u001b[39m\u001b[38;5;124mraw_input was called, but this frontend does not support input requests.\u001b[39m\u001b[38;5;124m\"\u001b[39m\n\u001b[0;32m-> 1190\u001b[0m     \u001b[38;5;28;01mraise\u001b[39;00m StdinNotImplementedError(msg)\n\u001b[1;32m   1191\u001b[0m \u001b[38;5;28;01mreturn\u001b[39;00m \u001b[38;5;28mself\u001b[39m\u001b[38;5;241m.\u001b[39m_input_request(\n\u001b[1;32m   1192\u001b[0m     \u001b[38;5;28mstr\u001b[39m(prompt),\n\u001b[1;32m   1193\u001b[0m     \u001b[38;5;28mself\u001b[39m\u001b[38;5;241m.\u001b[39m_parent_ident[\u001b[38;5;124m\"\u001b[39m\u001b[38;5;124mshell\u001b[39m\u001b[38;5;124m\"\u001b[39m],\n\u001b[1;32m   1194\u001b[0m     \u001b[38;5;28mself\u001b[39m\u001b[38;5;241m.\u001b[39mget_parent(\u001b[38;5;124m\"\u001b[39m\u001b[38;5;124mshell\u001b[39m\u001b[38;5;124m\"\u001b[39m),\n\u001b[1;32m   1195\u001b[0m     password\u001b[38;5;241m=\u001b[39m\u001b[38;5;28;01mFalse\u001b[39;00m,\n\u001b[1;32m   1196\u001b[0m )\n",
      "\u001b[0;31mStdinNotImplementedError\u001b[0m: raw_input was called, but this frontend does not support input requests."
     ]
    }
   ],
   "source": [
    "Favourite_Movie_Name=input('Enter your favourite movie name :')"
   ]
  },
  {
   "cell_type": "code",
   "execution_count": null,
   "id": "d46e6ce6",
   "metadata": {
    "id": "NOqVYhpDR8BB",
    "papermill": {
     "duration": null,
     "end_time": null,
     "exception": null,
     "start_time": null,
     "status": "pending"
    },
    "tags": []
   },
   "outputs": [],
   "source": [
    "All_Movies_Title_List=df['Movie_Title'].tolist()"
   ]
  },
  {
   "cell_type": "code",
   "execution_count": null,
   "id": "76d24dbc",
   "metadata": {
    "id": "G_eLO8vZSJqC",
    "papermill": {
     "duration": null,
     "end_time": null,
     "exception": null,
     "start_time": null,
     "status": "pending"
    },
    "tags": []
   },
   "outputs": [],
   "source": [
    "import difflib"
   ]
  },
  {
   "cell_type": "code",
   "execution_count": null,
   "id": "a2f9854e",
   "metadata": {
    "id": "9OMb6c8QSM-I",
    "outputId": "33cfc9ce-393a-491d-87e2-f0a53c8536a6",
    "papermill": {
     "duration": null,
     "end_time": null,
     "exception": null,
     "start_time": null,
     "status": "pending"
    },
    "tags": []
   },
   "outputs": [],
   "source": [
    "Movie_Recommendation=difflib.get_close_matches(Favourite_Movie_Name,All_Movies_Title_List)\n",
    "print(Movie_Recommendation)"
   ]
  },
  {
   "cell_type": "code",
   "execution_count": null,
   "id": "eb26eb3a",
   "metadata": {
    "id": "n3P1b878SkQM",
    "outputId": "12c4193a-5054-4196-9684-ccb2bd1147a7",
    "papermill": {
     "duration": null,
     "end_time": null,
     "exception": null,
     "start_time": null,
     "status": "pending"
    },
    "tags": []
   },
   "outputs": [],
   "source": [
    "Close_Match=Movie_Recommendation[0]\n",
    "print(Close_Match)"
   ]
  },
  {
   "cell_type": "code",
   "execution_count": null,
   "id": "87e6abb3",
   "metadata": {
    "id": "jvzQYMSnTI7C",
    "outputId": "f6bad32d-2b96-4706-9916-9ce518dc4fb5",
    "papermill": {
     "duration": null,
     "end_time": null,
     "exception": null,
     "start_time": null,
     "status": "pending"
    },
    "tags": []
   },
   "outputs": [],
   "source": [
    "Index_of_Close_Match_Movie=df[df.Movie_Title==Close_Match]['Movie_ID'].values[0]\n",
    "print(Index_of_Close_Match_Movie)"
   ]
  },
  {
   "cell_type": "code",
   "execution_count": null,
   "id": "3cc5ca34",
   "metadata": {
    "id": "riFA3CdkTij0",
    "outputId": "69fb1e4b-d9bc-45f4-c05d-2904d1849170",
    "papermill": {
     "duration": null,
     "end_time": null,
     "exception": null,
     "start_time": null,
     "status": "pending"
    },
    "tags": []
   },
   "outputs": [],
   "source": [
    "Recommendation_Score=list(enumerate(Similarity_Score[Index_of_Close_Match_Movie]))\n",
    "print(Recommendation_Score)"
   ]
  },
  {
   "cell_type": "code",
   "execution_count": null,
   "id": "93ce6573",
   "metadata": {
    "id": "oFTbvRdlT8Sp",
    "outputId": "6d336883-3150-47e9-892e-8963c650e233",
    "papermill": {
     "duration": null,
     "end_time": null,
     "exception": null,
     "start_time": null,
     "status": "pending"
    },
    "tags": []
   },
   "outputs": [],
   "source": [
    "len(Recommendation_Score)"
   ]
  },
  {
   "cell_type": "markdown",
   "id": "a9c4a4ce",
   "metadata": {
    "id": "7m5WTr7hUEP9",
    "papermill": {
     "duration": null,
     "end_time": null,
     "exception": null,
     "start_time": null,
     "status": "pending"
    },
    "tags": []
   },
   "source": [
    "**Get All Movies Sort Based on Recommendation Score wrt Favourite Movie**"
   ]
  },
  {
   "cell_type": "code",
   "execution_count": null,
   "id": "1401c8db",
   "metadata": {
    "id": "AHmzgv3hURUv",
    "outputId": "51dc3414-3a7d-4bdd-a19d-b200713baa9b",
    "papermill": {
     "duration": null,
     "end_time": null,
     "exception": null,
     "start_time": null,
     "status": "pending"
    },
    "tags": []
   },
   "outputs": [],
   "source": [
    "Sorted_Similar_movies=sorted(Recommendation_Score,key=lambda x:x[1],reverse=True)\n",
    "print(Sorted_Similar_movies)"
   ]
  },
  {
   "cell_type": "code",
   "execution_count": null,
   "id": "ebf07270",
   "metadata": {
    "id": "vZaMBH_8Ui_v",
    "outputId": "b42cf926-ffeb-4561-97ce-d9bb205917bb",
    "papermill": {
     "duration": null,
     "end_time": null,
     "exception": null,
     "start_time": null,
     "status": "pending"
    },
    "tags": []
   },
   "outputs": [],
   "source": [
    "print('Top 30 Movies Suggested for You : \\n')\n",
    "i=1\n",
    "for movie in Sorted_Similar_movies:\n",
    "  index=movie[0]\n",
    "  title_from_index=df[df.index==index]['Movie_Title'].values[0]\n",
    "  if(i<31):\n",
    "    print(i,'.',title_from_index)\n",
    "    i+=1"
   ]
  },
  {
   "cell_type": "markdown",
   "id": "06e710b5",
   "metadata": {
    "id": "Tc_GSA6DVbJh",
    "papermill": {
     "duration": null,
     "end_time": null,
     "exception": null,
     "start_time": null,
     "status": "pending"
    },
    "tags": []
   },
   "source": [
    "**Top 10 Movie Recommendation System**"
   ]
  },
  {
   "cell_type": "code",
   "execution_count": null,
   "id": "9444c45d",
   "metadata": {
    "id": "j9uU7bL9VieF",
    "outputId": "7eca9d16-2966-4b49-ede2-95f5f5d123c6",
    "papermill": {
     "duration": null,
     "end_time": null,
     "exception": null,
     "start_time": null,
     "status": "pending"
    },
    "tags": []
   },
   "outputs": [],
   "source": [
    "Movie_Name=input('Enter your favourite movie name :')\n",
    "list_of_all_titles=df['Movie_Title'].tolist()\n",
    "Find_Close_Match=difflib.get_close_matches(Movie_Name,list_of_all_titles)\n",
    "Close_Match=Find_Close_Match[0]\n",
    "Index_of_Movie=df[df.Movie_Title==Close_Match]['Movie_ID'].values[0]\n",
    "Recommendation_Score=list(enumerate(Similarity_Score[Index_of_Movie]))\n",
    "sorted_similar_movies=sorted(Recommendation_Score,key=lambda x:x[1],reverse=True)\n",
    "print('Top 10 Movies suggested for you :\\n')\n",
    "i=1\n",
    "for movie in sorted_similar_movies:\n",
    "  index=movie[0]\n",
    "  title_from_index=df[df.Movie_ID==index]['Movie_Title'].values\n",
    "  if(i<11):\n",
    "    print(i,'.',title_from_index)\n",
    "    i+=1"
   ]
  }
 ],
 "metadata": {
  "kernelspec": {
   "display_name": "Python 3",
   "language": "python",
   "name": "python3"
  },
  "language_info": {
   "codemirror_mode": {
    "name": "ipython",
    "version": 3
   },
   "file_extension": ".py",
   "mimetype": "text/x-python",
   "name": "python",
   "nbconvert_exporter": "python",
   "pygments_lexer": "ipython3",
   "version": "3.10.12"
  },
  "papermill": {
   "default_parameters": {},
   "duration": 16.722656,
   "end_time": "2023-07-16T11:38:03.463517",
   "environment_variables": {},
   "exception": true,
   "input_path": "__notebook__.ipynb",
   "output_path": "__notebook__.ipynb",
   "parameters": {},
   "start_time": "2023-07-16T11:37:46.740861",
   "version": "2.4.0"
  }
 },
 "nbformat": 4,
 "nbformat_minor": 5
}
